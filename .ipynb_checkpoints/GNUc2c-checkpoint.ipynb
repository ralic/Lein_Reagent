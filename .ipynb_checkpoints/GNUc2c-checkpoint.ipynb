{
 "cells": [
  {
   "cell_type": "code",
   "execution_count": 2,
   "metadata": {},
   "outputs": [
    {
     "ename": "SyntaxError",
     "evalue": "invalid syntax (<ipython-input-2-a2b25f87b0a9>, line 1)",
     "output_type": "error",
     "traceback": [
      "\u001b[1;36m  File \u001b[1;32m\"<ipython-input-2-a2b25f87b0a9>\"\u001b[1;36m, line \u001b[1;32m1\u001b[0m\n\u001b[1;33m    (/http://nbviewer.jupyter.org/gist/jaredly/404a36306fdee6a1737a)\u001b[0m\n\u001b[1;37m     ^\u001b[0m\n\u001b[1;31mSyntaxError\u001b[0m\u001b[1;31m:\u001b[0m invalid syntax\n"
     ]
    }
   ],
   "source": [
    "//http://nbviewer.jupyter.org/gist/jaredly/404a36306fdee6a1737a\n",
    "var d3= require('d3')\n",
    "var os = require('os');\n",
    "os.hostname()"
   ]
  },
  {
   "cell_type": "code",
   "execution_count": null,
   "metadata": {},
   "outputs": [],
   "source": [
    "// var babel = require('babel');\n",
    "%load_ext babel\n"
   ]
  },
  {
   "cell_type": "code",
   "execution_count": null,
   "metadata": {},
   "outputs": [],
   "source": [
    "%%babel\n",
    "class Something {\n",
    "    constructor() {\n",
    "        console.log('Welcome!')\n",
    "    }\n",
    "    doit() {\n",
    "        return false\n",
    "    }\n",
    "}\n",
    "\n",
    "new Something().doit()"
   ]
  },
  {
   "cell_type": "code",
   "execution_count": null,
   "metadata": {},
   "outputs": [],
   "source": [
    "display(\"<h1>Hello World</h1>\", \"text/html\") "
   ]
  },
  {
   "cell_type": "code",
   "execution_count": null,
   "metadata": {},
   "outputs": [],
   "source": [
    "var jsdom = require(\"jsdom\");\n",
    "var { JSDOM } = jsdom;\n",
    "\n",
    "var dom = new JSDOM(`<!DOCTYPE html><p>Hello world</p>`);\n",
    "console.log(dom.window.document.querySelector(\"p\").textContent);"
   ]
  },
  {
   "cell_type": "code",
   "execution_count": null,
   "metadata": {},
   "outputs": [],
   "source": [
    "var request = require('request');\n",
    "\n",
    "var headers = {\n",
    "    'dnt': '1',\n",
    "    'accept-encoding': 'gzip, deflate, sdch, br',\n",
    "    'accept-language': 'en-US,en;q=0.8',\n",
    "    'upgrade-insecure-requests': '1',\n",
    "    'user-agent': 'Mozilla/5.0 (Macintosh; Intel Mac OS X 10_12_4) AppleWebKit/537.36 (KHTML, like Gecko) Chrome/58.0.3029.96 Safari/537.36',\n",
    "    'accept': 'image/webp,image/*,*/*;q=0.8',\n",
    "    'cache-control': 'max-age=0',\n",
    "    'authority': 'www.google-analytics.com',\n",
    "    'cookie': '__utma=32101439.1280417682.1493523779.1493985348.1494198528.2; __utmc=32101439; __utmz=32101439.1493985348.1.1.utmcsr=google|utmccn=(organic)|utmcmd=organic|utmctr=(not%20provided); login_nonce=Fjuc8WRzxBlbf2C5kAtel09921bkqJ; _gat=1; pypi=a01d711f8ae44d4ca90e0ece3cbae71c; _ga=GA1.2.1280417682.1493523779; _gid=GA1.2.1370942002.1494396728',\n",
    "    'Referer': 'https://pypi.python.org/pypi?:action=browse&amp;c=1',\n",
    "    'User-Agent': 'Mozilla/5.0 (Macintosh; Intel Mac OS X 10_12_4) AppleWebKit/537.36 (KHTML, like Gecko) Chrome/58.0.3029.96 Safari/537.36',\n",
    "    'origin': 'https://pypi.org',\n",
    "    'referer': 'https://pypi.org/pypi?:action=browse&amp;c=1',\n",
    "    'if-none-match': '\"2e4019e030c6c60205ea0de9cb06346b\"'\n",
    "};\n",
    "\n",
    "var options = {\n",
    "    url: 'https://pypi.org/pypi?:action=browse&amp;c=1',\n",
    "    headers: headers\n",
    "};\n",
    "\n",
    "var resp;\n",
    "var flag=true;\n",
    "var callback= function (error, response, body) {\n",
    "    if (!error && response.statusCode == 200) {\n",
    "       resp=response;\n",
    "       flag=false;\n",
    "    }\n",
    "}\n",
    "\n",
    "request(options,callback);"
   ]
  },
  {
   "cell_type": "code",
   "execution_count": null,
   "metadata": {},
   "outputs": [],
   "source": [
    "var sleep = require('system-sleep');\n",
    "var start = new Date();\n",
    "var end ;\n",
    "var samplerate=5;\n",
    "while(flag) {\n",
    "    end= new Date();    \n",
    "    sleep(samplerate);\n",
    "}\n",
    "var elapsed= end.getTime()-start.getTime();\n",
    "console.log(\"Time elapsed :\"+elapsed+\"msec\")"
   ]
  },
  {
   "cell_type": "code",
   "execution_count": null,
   "metadata": {},
   "outputs": [],
   "source": [
    "resp.body"
   ]
  },
  {
   "cell_type": "code",
   "execution_count": null,
   "metadata": {},
   "outputs": [],
   "source": [
    "display(resp.body, \"text/html\") "
   ]
  },
  {
   "cell_type": "code",
   "execution_count": null,
   "metadata": {},
   "outputs": [],
   "source": [
    "var rp = require('request-promise');\n",
    "\n",
    "var cheerio = require('cheerio'); // Basically jQuery for node.js \n",
    " \n",
    "var options2 = {\n",
    "    uri: 'http://www.google.com',\n",
    "    transform: function (body) {\n",
    "        return cheerio.load(body);\n",
    "    }\n",
    "};\n",
    " \n",
    "rp(options2)\n",
    "    .then(function ($) {\n",
    "        // Process html like you would with jQuery... \n",
    "    })\n",
    "    .catch(function (err) {\n",
    "        // Crawling failed or Cheerio choked... \n",
    "    });"
   ]
  },
  {
   "cell_type": "code",
   "execution_count": null,
   "metadata": {},
   "outputs": [],
   "source": []
  }
 ],
 "metadata": {
  "kernelspec": {
   "display_name": "Python 3",
   "language": "python",
   "name": "python3"
  }
 },
 "nbformat": 4,
 "nbformat_minor": 2
}
