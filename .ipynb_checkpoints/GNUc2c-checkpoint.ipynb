{
 "cells": [
  {
   "cell_type": "code",
   "execution_count": 27,
   "metadata": {},
   "outputs": [
    {
     "data": {
      "text/plain": [
       "\"tastypotinc.private\""
      ]
     },
     "execution_count": 27,
     "metadata": {},
     "output_type": "execute_result"
    }
   ],
   "source": [
    "//http://nbviewer.jupyter.org/gist/jaredly/404a36306fdee6a1737a\n",
    "\n",
    "var os = require('os');\n",
    "os.hostname()\n"
   ]
  },
  {
   "cell_type": "code",
   "execution_count": 40,
   "metadata": {},
   "outputs": [
    {
     "name": "stdout",
     "output_type": "stream",
     "text": [
      "[Request] {\"uri\":{\"protocol\":\"https:\",\"slashes\":true,\"auth\":null,\"host\":\"github.com\",\"port\":443,\"hostname\":\"github.com\",\"hash\":null,\"search\":null,\"query\":null,\"pathname\":\"/gitGNU/gnu_3dldf/graphs/contributors\",\"path\":\"/gitGNU/gnu_3dldf/graphs/contributors\",\"href\":\"https://github.com/gitGNU/gnu_3dldf/graphs/contributors\"},\"method\":\"GET\",\"headers\":{\"DNT\":\"1\",\"Accept-Encoding\":\"gzip, deflate, sdch, br\",\"Accept-Language\":\"en-US,en;q=0.8\",\"Upgrade-Insecure-Requests\":\"1\",\"User-Agent\":\"Mozilla/5.0 (Macintosh; Intel Mac OS X 10_12_4) AppleWebKit/537.36 (KHTML, like Gecko) Chrome/58.0.3029.96 Safari/537.36\",\"Accept\":\"text/html,application/xhtml+xml,application/xml;q=0.9,image/webp,*/*;q=0.8\",\"Referer\":\"https://github.com/gitGNU/gnu_3dldf\",\"Connection\":\"keep-alive\",\"Cache-Control\":\"max-age=0\",\"Cookie\":\"logged_in=yes; dotcom_user=ralic; _octo=GH1.1.2062054053.1493350610; _gh_sess=eyJzZXNzaW9uX2lkIjoiYzU5MDZhYzI1OTI4Njk4YTVmYmM5NzFmZjE0MmYwYmQiLCJsYXN0X3dyaXRlIjoxNDkzNzYyMTA0MTUwLCJjb250ZXh0IjoiLyIsInJldHVybl90byI6Ii9naXRHTlUvZ251X2F1dG9tYWtlL3NldHRpbmdzL3RyYW5zZmVyIiwic3B5X3JlcG8iOiJnaXRHTlUvZ251XzNkbGRmIiwic3B5X3JlcG9fYXQiOjE0OTM3NjYzMDd9--6650903af2cb11763578fec982264ad26163f8fa; user_session=RBFbN77HqwP9OcDHvZkncgG2uNa9Yy1XCqptUwd94rb_wDLD; __Host-user_session_same_site=RBFbN77HqwP9OcDHvZkncgG2uNa9Yy1XCqptUwd94rb_wDLD; _ga=GA1.2.1125699014.1493013552; _gat=1; tz=America%2FLos_Angeles\",\"host\":\"github.com\"}}\n"
     ]
    },
    {
     "data": {
      "text/plain": [
       "\"\\u001f�\\b\\u0000\\u0000\\u0000\\u0000\\u0000\\u0000\\u0003�}�~�H��}?�������\\u0016��H����91���\\u0013�&[H\\u0002d\\u000bD�06W�\\u001a�\\u0005��͓�U�DI\\b�ӝ���t\\u000e \\u0015u�U�\\\\�~������ể���G�0\\u001b�{?�З\\u0012{��n#\\u001c7�~R��a�\\u0005���Q�y�?��i��6fY_u�\\u0007�[\\u001c��\\u0015��i2�\\u0006�x�ፓ��(��\\re8\\r���a�M�W����|����9��������Hm���(�'��Tuu�����\\u0013��\\u001e\\u0018\\u001d�u���w�0���vǷ,�t�~�o\\u001a���=[�y�m[���^h7�\\u0014mG�,\\u001cL��i��\\u000e=�vԁ��玌�����v|e���8�?\\u001e�;h����q�av����4���PFa\\u0010y\\u0018M\\u001c7�i\\u0018���)\\u000e�a\\u0018f\\r�Ŧ��\\u001a;�\\r�\\b�^��q{�o�\\u001d�s��g��o�&&�3\\u0003��,]3\\r�0u�\\bt��\\u000b\\u0003�_7���Y`��d�\\u001b�i��}x<=<?��|���ptt�6�z�\\u001f_��\\u001f�[�\\u001bC\\u0017�h\\u0012\\u0018p��x���(�O�)��O0�c\\u0000�<\\n��n\\u0010>D~��\\u0017\\u0006]T0��8�;@�iԛe�4U�D�\\\\�\\\\|j\\rƳ�f\\u0010\\u0007��\\u0016�W�7_�Л�Æ�=MЮ7�đ�eQ2n%�p��_�0��фRy\\u001ca\\u001594J9�,�տ�8���Y��>[X�P?�E�\\u001aa<Uh�@�e�<��xP[!���\\u0014��\\u0012@�{����Q ͔ni���NǴL�6�\\u000e���>�\\u0016�g��Q\\u000f^�]���4Ké�y��f-�5u���>����F���]K�\\u001aRW���h�\\rB��J+bFʙ�(\\u000b��r�\\u0014Hzw���_\\u000e\\u0014��\\u0012�䭮s�\\u0014-JM�|���?S�l�5^\\u0019[\\u0001v!\\u0003�\\u001c�\\u0014@j\\u0018'�\\u0011�W�=\\u0001��\\u0000��@�Ɗ���\\f��X�3Ӭ�Y\\u00028�!� ˱_\\u0015��qb\\u0015\\n�aOM\\u0013��P\\u000f��yJ\\u00185�\\u001eB\\u0019�~�����ݙӽ��/�><^\\u001c\\u001e���>,n����������ݍ�qԽ�͛���vt��ޝ��]\\u0005q��q�=<Zܞ\\u001c\\u0019\\u0017�\\u0007�{r����Ⱦ���\\u000b���\\\"������0�.\\u0016�vU���{N�\\u000fM-\\f\\u0002'�\\u0007�\\u001e��������\\u0003l�\\t:|H\\u0012���y�j\\u0016��d&#\\f]\\u0003|.�+��� QGI�-7q\\u001a�)6v�J��W�\\u001b+%�0\\r���4SK��������o\\u001f�2\\u001d\\u0007d䕭\\u001dٯ�WvG똆{�P\\u0002�)��n���\\b��PV��4�\\u0001�a�\\u0012�h(\\u000f^<\\u0003\\u0016�����`�M� A�5U�\\u0019$� \\u000eU�V�C8��\\u0002�I����=Hݡ6����������^/���oo��S�ˇ����8�����3�E巋������מ�����]���}���Ʊ}�]G�C-|�\\u001b�t�-Ky�E\\u0003�؋���ǘ\\u000b��i_5�N����A���\\\\�$��K�\\u0002~�\\u000f\\tg5\\u0004)I�\\u0013�R\\u001d&)���\\n8\\u0006�ɏ�ؒ���qǚ�[�F5|��)\\u0006��M�90�W��1z�i��1�������l��\\u0000{\\u0001���U\\u0001��>��\\u0002��ݶ���x4��C�z �k��\\t\\u0018��������\\r�+0\\u0002���N�\\u001f�=�X���v�V�7�������L��B\\u000b��Y���z`�mp�� �@��5m�#�~#*����c���RhS-S��j\\u0011���C�V�md�\\u0019h\\b��\\u0002D�8��\\u0002�ќ��\\u001cn\\fl�۸K�)�`U�����\\u0012x�'�A\\u0018(g�-\\u0013j�ĺ�;\\br9�,vŒn� D6n�\\u0014E~�p�\\u0015(�\\u001e>N8\\u0002z��rA\\f\\u0010\\u0014���#� �P\\r���{�\\u0013O�In\\u0016�f�����ݽ~sw�]��=�\\u0018]�ݕo^|>��~�`u\\u000f/���8�^�?�\\u001ev\\u001f����E���#��n�\\u0000�\\u0000)9�o\\u000f���\\u0015������������^w��'\\u001f�n�\\\\,���\\buh�wG����\\u0005��g�<�G׏���Epܙ�\\u001e�9g�\\u001f\\u000f?~�q.���\\u000f�dqqw�u\\u0017\\u0003�����ŧ�Ż�Ov��\\u001e$mxH僓8C���g}�6@\\u000e�\\u0017\\u0017\\u000b_{w5��\\u000f�$=�B��o�X�N�����C��\\r\\u0011�*�')IM�~�B��\\u0001Z�2����n��Z�\\u0019�����,�«\\u0016�\\u001cp�~�\\bl��P��b\\u0010:RA�����#'8 \\u0000�\\u0000��}Cw=��\\t��\\u000b&���z�c\\u0004m�聭\\u000b\\t���W!,%n���\\u001f��T)� Q�Q�����\\u0011�\\u000fɓK�\\u001b�\\u0011i�g�\\u0018E��� �%\\u0016��T�BQ-d��\\u000b�Ën\\u0007\\\\�\\u000e\\u0007�H|���'ӧM�X\\n:\\u001b�C\\u0018PT6�'5�ZFu\\u0012����d�c�`����8-\\u0010�s�D��>���j^:=�0#���4I�?x�����1\\u001e��1L�+�(6\\u0000#\\b�h\\u0014eik��`\\u0010�^F�\\n�O��q\\f\\u0019�N\\b�\\u001fC�$�\\u0003^�$b����dW����L�R�ς\\u001bQ�̃\\u0012�q\\u001d�~(��IT\\u0012\\u0007&�\\b\\u0012b�s2-VV�Q�6�U��)��﬛\\u0017\\u0016�/\\u0005h���V~��|&�x\\f���\\u000fT��>@�\\u0006��Lw\\u001b?C2�\\u0011\\u000e�l�\\u0015\\u0001L�m=����\\u0007�\\u0004\\u0004w|P�e�9\\u001b��Pe�KS�3��i�k������lRA�lcr���*5Z�^\\u0012@���\\u0006�\\f8\\t5\\u001a+���(s0c�X\\tG�]\\u0004\\\"�\\b�^BL0��9d\\u0004�C^\\u0001C\\r�o�!�>�\\n(<�\\u0005~b\\u000eQ\\u0004J\\u0007E���\\u0004��\\fP�fj��\\u0000��\\u0006����q\\u0010>�6���}��K�V/��HS�(����h�fIQr�\\u0012\\t\\u0004㢪��'$\\u0005�d\\u00140��\\tT�^�S=�f��PM�ۑG6M\\u0006St����B����\\\"l3���7�Orq>\\u0007ؤ\\t)xz\\u001e@k�&B�D��\\\"��\\u001eAoԏ\\u001e�s%�(�\\u0012\\u000b\\u0005:7\\u0006�f�Y\\u0015�%�!��a�݇P�\\f\\u00140U�4����\\u0011�8MF��)]��\\bv�\\u0007F��\\u000fl�~U\\u0006\\t�g\\u00006��x��W���\\u0015u��\\u001f��W8�� �ҕ��_�\\u001eʯ�ou�M�U�=t:�\\u0006Ch�L\\u0003B+�7��M�9��^'XM�\\u0014������w�yog�eC�\\u001fű:�ф���\\u0004\\u0018\\u001aV��*ځٴ������٣�\\u0018M��8M�T���V�M�Ӵ�\\u001a�m���/\\u0013E��Q���6]�}�M��\\u001axj�m|ۦ�\\u0013\\u001cd�XȂo�\\u0012]��b\\u0018\\n\\u0012\\f$�������B馃�4]ћ�K}�Q\\u0018M5�\\u0006=R���?��D^\\u0007=�Ҭ2�`S��7�H0TdA\\u0017�\\u000e0�\\u001d�F��&e�\\u0010�\\u001b��Bc���C\\u0015`8.�\\u001bl��\\u000e�@�h�zB5��1\\u0013�\\r��>1\\nZ\\u0011�ǀ\\u0015C�\\u001fЀI��ɥ�ʿ���\\u001f�\\u0017\\u000b��Pc�E�ܡ�C�0R\\f����0\\u0016�\\r\\t�6�m��b��ccɚ���k��\\u001ab)x/hR�\\u001cv�d�}\\u001a��&��Xe�i��.��\\n��q2�\\u0002@�VӢ��]��]4���\\u0000�\\u0010\\u0006\\to�rTy��\\u001d�\\u0015�J�C�\\u001a@D#5��T'�$BR,U��9\\u0002\\u0010o\\f\\u0001���*���?����g��!�{P��7���\\u001e�\\u0005�bB�x\\u0000�3�ۡO�\\u0003��L-�!���a\\u000fA2e�m�\\u001a���n��\\u0010���9��\\u0014x�4\\b\\\"Ûjc�c6�+�7\\b�v�`s\\u000e �r��l\\u0018�\\r \\u0004H����&^\\u0010@��� J'���*\\u001a�v�b�D��,\\u0013�3L>\\u0018!��\\u001c�\\u0014\\n���h�u�7�\\u00072$�p�\\u000e�t9��12r��\\u0000\\u0002bD�w� P�\\u00158\\u0005^��%\\u0005�E��\\u0004C�\\u0002#��s\\n�:ϵ��2\\n\\u0017��IS�\\t�\\u000f]�\\u0003�\\u001aF)ع��.�\\u0018��S��O`�(xHQ�����+k��RFJ�P���0\\u000e�\\b�@t��A�]��\\u0016;''�2��oߖ\\tB\\r�L����0�1���%�\\u000fE�2M��)Yy\\u001a*](୦Z�\\u0015��\\u0010�Y��у���&Q\\u0006-�\\u0002�������ӟC_�^�%���KS�� `�ŀ�\\u0010\\r��\\u001c\\\\\\u000b�ͬ�W\\u0001�c�A��g��8���s4��h��Mr'�(\\u0007�ea\\u0015�;�2��;��1ԥ�\\n�G\\u0012 �)�S�)�q�CH\\u001a�B5U����`���\\n�B#���`�Ư�\\u0005�\\u0006}�LQ\\u0015*����sp��+��W��I��d�7\\u0014f-^��=7\\u001a��W�;�R0WEBi>\\u0014�4hF\\u00028#���y�/\\u001cG(/��(M1��\\u0019>ci����l��h�܊�-�-ͮH��W�x9g4o|�\\u001b&�p�VSˠ��N��V\\u0015��L\\u0016D��s\\u0007Q���\\u0010f}E���\\u0013|J\\b���\\u0004\\r;�\\u0019v1��wjw��!��\\u0017�\\tC�_\\u0012E��\\u0015�?��[��S��茓�0�T��\\u0006\\u001bv�A����F\\u0004 /���3W�\\u0005�\\u000732�\\u0000Sp�I�E\\u0010�\\u0002�Q�4�\\u0019\\u0002���<\\u0013\\u0013\\u0015�[��\\u0010�.2�6J�(\\u0015b���\\u0006]pI�4\\u0016!��a�`�\\u0012VL'0�����\\b�Sh @�DY���C��/\\u0013l���\\u0012�΅\\u001b\\u0012]6\\t7`g�n='���o<��ڃ����!\\u0015�~�\\rF�\\rV\\u001a\\u0006.0��tw\\u0018w{\\u00006�\\u0003\\u001e�0\\u0015\\u0007�:���%�زU�ͪ��\\n�\\u0015<C@\\\"\\u000e��\\u0010Wn*\\u0016q��\\u0002�\\u0019ﮋ���C������\\u0011�Tb����\\u0018�m�����*H\\u0002�d�\\u001a�6��D�N�\\fv��6\\u0002�\\u0012�W!H�c\\u0002/\\\"\\u0013+��Z\\\\�\\ttYMಉ!��1����\\u0004djx@�w0i������\\u00159�@)�ӳ�\\u00028��\\u0016�f�e@5�\\u0001�2��\\u0016� ZI@���\\f\\u0001�s�~�O��Ωv�\\u001e����x����d�\\u0018���(_\\u001aՇ�B�����\\b����F)J\\u0014+I�IyeI\\u0001��B\\t��\\n\\u00160�\\u0001\\\"�K���%8\\u0014e\\u0018�#��:e�r�$��U~\\u0011Υ$! �thmc��\\u001e�\\u0006`�ϊWm\\u0011\\u0004�\\u00192�fiǐd��\\u0018�\\u0006�-��4nN�Ĉ�e��&Ӂ7�\\u0016�\\u001fM��6_Kk���Bb\\u0015i��dB\\u000f\\\\\\u001e��:`BZ\\u0004�\\\"�ͭ�&�p�\\u0005g�,��UA���\\\"���A�,\\u000b&�~�����ӖSØ�\\u0002�iVX\\ng\\u0003؄�-�x\\u0010Ι\\b���(4\\u000fk\\u0019�߃WI�[�\\\\��n�`Wn?\\u0016}.I\\u001b�����\\u0016\\u0014z!ܛ\\u0002e�L�\\u0012��m�\\u000e�9\\u0013\\u001br4�\\u001cЖ�#\\u001aA/\\u0019C��\\u001f��@�~��Sҩ/��r�5s����MJ�kK\\u0005�\\u0001?6���c���TTY�/�TUF�%\\\\Y���.��86�2�\\u0012�b\\n<ZU�x�`\\u000e��I�w�e-\\u0018\\u000f�T�I�`����t�PNu�غ�d��\\u0012�%da\\u000e�[��\\u001c�$��~O\\n`X\\u0003T��\\u0014�(�\\u0000H��\\u001c:%:�(ಋ\\u001f���\\u0016\\u0007�\\u001f�A\\u0010�3���c�l ���:\\u001d<噂\\u000bg�!�s��r\\u0006E�X��u\\f\\u000e\\u001d�5=g\\u0014\\u0010�DW�2r?�x=��x~~��4'(k�\\t_39��P���+PV���+.:'�L\\u0001w�\\u0017/���0�H\\u0002�3ݤܢ{�X��S$�gj�V���To�=\\u0000�\\\"�$M[\\u0002П�s�] �����KQ����@%7����fa�ī�e�jgl�?I�,몡L\\u001c��ɇ��k���<C��z���ܛ�i`�?y;�����،ڣ�ѝq81�|��޻}\\u0007j�ף�I6��i2}�\\u001b\\u001d;�ۓ�o�~w��_���o�w\\u0007\\u0007�N�Q�O/��p�/i�\\u0005�\\u0000\\u000f�\\f&9�DNg=�\\u0012\\u0014�WB�K�Az46�k�&�� �d\\u001dD���#�@yJ����Ѓ�\\u001eJ����s4B�ª����\\nL�S5\\u0019�O\\nSި �\\u0011��;��?�s\\u001ff\\u0017���\\u001f�����������^�;W��\\u000e�\\u001bn~y3\\\\\\\\ƺ6��.\\u0012�>��|�\\u000fû�\\u001fއg������\\u000e\\u001e�V�=,�ٟ��A\\r\\\\��\\u000b`�\\u0002O;�\\u0015X\\u0012�����e��R�\\u0018�\\u0005\\\"mܪ\\u0017B�0V\\u001d\\u000f\\n1��a^\\u0001��>Pа��(ڦF)'W�C\\u0001URN�: �rk\\u0010=\\t\\u000b\\u0017<��\\\\��p\\u0000��\\u0010�Z�I?�Cھ\\u0004���\\u0007I�3a�@�\\u000f����\\u0019�v+�\\u0005�H\\\\nP��#�\\u0019r\\n V��\\u001b�!\\u001ac�&\\u001e|8�\\u0012:����\\u000b���<2\\u0018�I��Sr\\u001e�x\\u001f��\\u0015X���!�[��'tr08Iv�\\u001akH�)��8\\u000bũ�=�@JSR=�ݿG�zz�|���$~��+�Nf%�is�\\b�H����`e�.\\u0013\\u0011�r?>=z�����tv�s��p�����f�,f��g�����������q;|3pl�~z��9y�\\u0019\\u001c���Ν\\u001b]�g�볻�����'��\\u001d����\\u0002�������\\\\}.9\\\"�w:�?V\\u0012k��K�@~2F4'�>�lq�^�:2c)�;�\\f%*��$,��Y���Fj[����\\u0015�W�\\u0011���\\\\\\\"����H��\\u0002����el�W�(��?\\u0005Z�4�ps�$��D��D��*M�X\\u0018�E�`�S>{\\u001997\\b\\u0016�W�_��\\u001b�f�tql�B�K�����1T�\\u0002?�L9\\u001a>a�m�\\u0010-�\\u0010A7��\\u000bQS������ZS���MI�\\u000e\\u001f\\u0012Gq\\u000e�MBjx���T5UGm�\\u0017�����n�Pã�jq\\u0007\\u001dK��BIЅ����Fu�3��Od`I�\\u0000�\\u0000���ZB���ԡW�jv����I�\\b%;��=��+Bﾢ����(��sZ�\\u0012,T� \\u0015�H\\u0016�p���:\\u0002QZ\\\\��\\f�����:�5\\u000f��rnY��+L�\\u0000w\\b����U�\\u0002�L�^�.�:2A}�V�7\\u0014;�\\u0005�\\u0006rK(��z��O)�v�ZhV�ZU�F$#\\\\$�\\u0001�0����y^Hސ��a�\\b���8!�i1Ҫ��㲃<���8\\u0012��l����ƅ6yk�1�tq�.��E\\u001f��\\u0002�;7�\\u000f��\\u001b�\\u0019�Ypw�\\u0006�Y\\u000b�&Î)���-��X��dQ�ZP/!\\\"y�����w!\\u001bHW���0滇�e�F�5�ڼ��\\u0012#&X@N;J�oS�̳�\\f ,)�\\u0005!Z��\\u001cK�٥.�����YlQ�\\u0000yx�L��,\\\\8��r�\\u0010f`��c\\u0015`\\u0003\\u0014J(\\u0012�ʦ}�'-�ګ��v���C��M��F>;½��\\u0001\\u001c���~<\\u000b����\\u0016\\u0001N;p�b�\\u0005\\u0011^���2\\u001f;���g-���$�\\u001a��\\u0001a���`��eI��<Z��{M�ddꇖp\\u000eՃ2�g5�\\u000fp�%�\\tc�\\u0010o�|`�[7Q%�l\\u0006\\u0015���sB��o�ۿ���M�sxa�[=`V|\\u001e��+Y�dx^��e(_�\\b�!��u�o�U�-��\\u001d\\fY<��\\u0018�\\u000e���\\u0003\\u0017���\\ny�Y�&��}(��\\u001eP�ָF>*XBgI\\u001f�<xE&t�!����Q���\\\"J�;�D��\\u001c�������\\u000fG^9��ԋ��]\\\"��CQgT�w��\\u000b�<�*�%��?\\u001e'�ft8�G�M��p�\\u0007]�� T\\u0017�D��\\u001c\\rqr\\tǄΡ9�Nu�|\\u0010Iq��R`�U��]�K\\u001c2��N納�6�\\u001cBO�C\\u001e�Q!�}��b��P&y7\\u001a1\\u001a�ؑ&��Й�\\u000e\\u001d%Z~@qC���\\u001d\\u0011��\\\\\\u0012<����!X�ߖ��S�!�=�qR\\b�\\u001e�\\u0017�n\\u0014Ahk\\\\f�Da�r�׏d��ز\\u0015\\u000e�� ^�\\u0001\\u00042O0�fzX:��|\\u001dĀ\\f�Cc\\u001c�)�ْ�'?���\\u00140b)[n\\u0004����\\u0015�\\u0012\\u000e��CP�\\t\\u0011�\\u0013��Լ��=����П\\r�o_ο\\u0019oښ�~y�u.ó��d�~<M>�������a����~�����\\u001b~>����[���7��V���Vgt\\u0015/>����W�l�T\\\\�>��� F詋����\\u0013[�\\u0015�^��'~��o�p��ifU�!A�2�&��o����(�\\b^���p�-�}�\\u0003�\\u0013ù\\u001b�M\\u001d�\\u001cX\\n��\\u000e\\u000e��\\u000eT�\\u000e��C\\u0018�9��7~�\\u0014|��\\u0011�6Io\\u001d�x���m�\\u0006���UZZT\\u000bV�p�٨��=m�KF���#���|e`И�7U�v]�\\nYâ\\u0015���C��\\f8���4%<Á\\r~ZeLs~=��t�=������A���������~{u���G�n����L�&���������\\u000fo�O������O��\\u000fV�dx|�8�7���~���G��\\u001d\\u0007�$Ls�\\tϰ\\u001f� �\\u0002,Ð��8�Z�߈ah�m�\\\"\\u001b\\u0003�x&B���\\u0016\\u0014�\\u0006�\\r)\\u0014�Li��\\u0019�\\u0005O���[��)9)<Fetdp��y\\u0018�\\u001c~R�\\u0017��,�k`�D��je2��cj��Iq��\\u0006W�eN5*\\u001ec2uf.�4Ap���l\\u000b�L�]�ݿ�:3�\\u0018j�P��D�b\\u0006\\u0014>�:�*υ��=�\\t\\u001d\\u0010\\\\���\\u000e��\\u0015�3�ι\\r\\u0001\\u0004��kPac%\\u001f�ΛJ7�\\u0018B�\\u0003\\u0019�k��,���4$0�t�\\n�溆a�[t\\r��\\u001d�[�\\r�\\\"Aй/��HD�\\u0013\\u0002e@����\\u0016\\r.�\\\"7�\\u0003;w�ґ�d&��\\\\��\\u0018��\\u0007�\\u000f���f\\r\\u000b6��U���VX�˰\\u0010���@Q\\u0002��q'��pǪG\\u0000\\\"�A\\u001e�\\u0000f�q�[\\u0005�w�F.����\\u0012vb�Y䉤4�d��\\f�z�`��p�\\u001e�]V1��s�54�\\u0016+\\u0018���KE\\f�\\u0001���1���.|V����\\t�`Q�.q�\\u0012�\\u001a�Ė�\\u001a��׷[c�.�w�#�\\u000f�ϊ��X�����h�,B\\u0013���8OӴ%\\u0002=�\\\"Aա�\\u0018D�b�S�\\u0015U�N�:_�t�R�\\u0006� \\u0011sl)���QԱ�\\u001c����9w,�.��g\\u0005�\\u000e�\\u001c�x\\u00186\\u001e��;���h��f`\\u000b�\\u0012�kw\\b��b���)��P�v��\\u0010/��Y�\\u0000��I�\\u0001\\u001e8@A\\u0014чζ�I�S��)��!\\u0019��y@\\r5�(��-\\u001d�\\u001d\\u0002�0e\\u0015\\u0004-qR\\u0016�]Q#�X\\u000ftHRՇ�+\\u001b�QO�n<t��k�$^�L��\\u0017N��ȢC\\u0001�\\u0011����U��\\u0000\\n�\\u0012�\\u000f�.\\u001e�M�感VX�WH������\\u0016b���¦�OȵV���:˾�0�+=��\\u0003�}K�\\u0006\\f�\\bj��tO��κ'\\u000e�@H\\u001b��䚤���\\u000e-��O;\\u0014�B�\\u001b�5z�\\u001b\\u0016�)�G1\\u0000\\n�\\u0014���948�Z�\\u00116����}M>��t6����^`%�\\u0006O�f\\u001e�B�-G�\\t���}j�\\f���A�)�(F\\u0018��xl\\u0015V�\\u0015�\\u001cR�\\b\\u0019�c\\u0011���zi��E\\u0010�e�0�dd����,�\\u0007�kP!D�&�cV�W:�M��x�����2�~\\u0003��\\u001e�c���7\\u0010O=Ĳ�q2UV��ȃ���96}!N��+zk����\\u0017�P�y\\u000e\\u001f=|C�B�\\u001c�&z�_�k ���\\u000b�\\u0002��\\u001cރ1�����2�WB\\u0019�UA��\\u0015M�\\u0012b8~�{���˖T\\u001e$�������\\u0001o�\\u0001��t\\u0012� ���ae��c`R�|V\\u0016W�~-yK\\u0017p�\\u000bPN\\u0004)a��#N\\u0000�\\bgKS8�ց]ѳ�D��G��� w�\\u000f*]��\\u0012\\u0011��p�B��&�C4���\\u0015�\\tz����@�7U���[�\\u0004��@�\\f\\f>\\u000b��j��yN�^t�0D\\u0010=rsEn\\u0004��V�\\u0004K\\u000f��Gyɶ�\\u001f����\\u0011d\\u001c�Z{h\\\\\\u0013aV\\u001c\\\"�D%��\\u000f9\\u001b]\\u000f�<LL�c�D�\\u000e�-��5��l,|��\\r�h\\bE\\f\\u001aiK��\\r�\\u001eI��D�7�\\u000b��v�\\b�T�\\u0010�m���\\u000b�\\u001d���N\\u001e+~{��Bn\\u0010�E�>\\r�چ\\u0010�!�\\t�>4��ڂ�\\u0011�׈0�\\u001c��\\u0007���\\t\\u0014K��H\\u0003�+�i�Z�\\u0003�I���5�\\u00155\\b=�\\u0000��K\\u0011J�\\u000e\\\"%R�@\\u0014Dl\\u0013zq:\\u000f\\u000e\\u001a�\\u0011�ul��26�\\u000e\\r�;�A�n\\u0017���%/��\\u0005\\\\5V%~�l�\\u0018l�f\\f���C`�\\u0001p�01@\\t�f:�ph�\\r\\u000e\\u0017m�\\u0014O\\u0012�S��I=�;D�\\u001f�z������\\u0014\\u0000�Bhe�z\\u001d�ق\\u001a�k���P� �t�\\r�g�|��\\u001a�����+�05��\\bS�f8�������7�ɚ����\\b�T���~N�F{�\\u0018�\\b_�B*�\\u0000�@\\u000b�\\u000e:�қb�7�P\\\"`\\u0006F\\u0019���\\u000eY\\u000eq��D�N�{cD�k���e\\u0002�M\\u0014�\\u0013��P*��\\u0005?�u��\\u0012�z�:XR��L��\\u001by�yt\\u000f6�� b���\\u0011Zja��Xe�[���\\\\}ĎF��mu�/<����C\\u000b���k�8\\u000fsh]�IG@/\\u0006^�J�\\u0017�M{�\\\"#�XF�\\n\\u0003�\\\"�u�����Y�$�\\u000e�\\u0007�R�S��\\u0015W\\u0016�'�Bl\\r�2�\\t��BOu�F��S\\u000e�9|Y�:������\\t�[P�)k��\\u001a�\\u0001��aER����#��;k\\u0003\\n-\\u001d\\u000b)\\\\�\\u0011�v\\u000b��\\n\\u001f��\\u001a���p�x!\\u0017!��-l��Y��ڹ\\u000b���g8?Bg� ��?(=�\\u000b��\\u0010S\\r���İ��ۈYխ�\\u000e���\\u000f�\\u000fوvv-�\\tf��&�/��-�_ŴŦ���NH��\\u0005�޼n����x5k$��]�����\\rLa�i\\u0003k�\\u001ai���ً.����.d\\b�\\t���k\\u0013/���6TaO�k��1NؽW��l\\\\�\\\"��w���\\u0005�+�K�5\\u001e_��!�`*��dVA�5��8�����U�j+A7^��\\u0006\\b���½tw��\\u000e素\\n���\\u0007�C����ۇ0�\\b\\u001fH��\\u0018u�C\\u0017\\u001f.�� �`2�\\u000f�6\\u0015\\u0004.fu ::�\\u001b�aG\\u001bY=(�+\\\"\\u0015\\u000b*Bq|#�!�ʢ\\u001e�Yڈ\\\\\\bØ�!'=\\u000b}����\\u001b\\u0003C���\\n�Z�G˦H��\\u000b�\\u0002��N�P޼\\r�����@f�\\u0018�?X\\u000f�5\\u0011��\\u001e X0\\t\\u001a�e\\f��]T\\u0019D\\u0015��R���\\u00116@ff�\\u0003������\\\"���r\\u0001®jPsSC�\\u001e��<(�S\\u0004zfwz�Mw\\u0014hz�i}�\\u0016B/��\\u0017�Z��G��H�/���t�8@�7�C$=��6���M\\u0001�7\\u0011�\\u0002S�&emfu_����V��\\u0017��\\u001a�\\u001bA\\u000b��ƾA�\\u0017ufS��\\u000b����~Oߋv�n_����#�\\u0019�\\u000beXT�\\u0007\\u0004s����zb��Ҥ��m^�{f��p�c���|��R�\\u0003�Z���`\\b\\u0013\\u0004T�q\\\\����^nJ��{��B=ئ�U���=ʰ�\\u000b�fр��\\u000b~��\\u000b��\\u001a��\\u001e�\\u001bnCۿk\\u001b�~.\\u001b�����K�c\\u0003��+\\nB��a��R��]��ے�}XtAt}��i\\u000e\\u0002�J��\\u0018�@�{�r\\n�+�X��8�\\beˢ(�\\u000e��Ko\\n\\u0018*\\u0002o\\u0014�,���\\t����X\\u0018�~�\\u001c��c�k\\u0002fp���DQ\\u001b#��q�%\\u001d ��\\u0015��K�W�*��\\u001e�‛�dU�ҩ��a�\\u001c���\\u0012Tc\\n�=Y^�jS���ɚeʽL��\\u0018�+, �\\u0019�\\n�4?4C\\u0012(�\\u0000(B\\f\\u001c�}�GK!PZ�^l\\b})WI�\\u0005��\\u0012\\u0007�n)��\\u0017�Y\\u0015�%(`���vȓȧ����\\u000f_���s��S��y���/\\u0015Y`�\\f�\\u0013���/\\u000e���^\\u001b&�=w\\\"\\u0007˰f�~�*\\u0016'}7�\\\"�����9ٸ��0U��U�\\u0005��=Y�����\\u001e�\\r��nה0��˷����.-H5�`��UQr�]vaZF�dU�H<4%�\\u0013\\u000e5�\\n�\\u0017ܵ�'|\\u0016��\\u0006��E�\\u0001�\\u000b�;ʤ�w&y�h��E{\\u0007r>���7w�\\n\\u0011��5)��(�]\\u0006�P\\bO\\u0013�\\u0012/��´呆I��\\u000e�[\\\\����U�Ȅ\\u0014�\\u000b���=�\\u0005�\\r_����/���-W\\u0014șG�T��T8o�{�\\u0007\\u0004�.��~�\\u0003�2\\u000e�Gg�3�~\\u0016��-\\u001b��m�8�Q\\u0006��_lKy\\u0012\\u000b9�M\\ty�\\n\\u001e�w�\\u001c�hI����r��?�\\u0015��6_�Im\\u0007F)��p>s�w@A�E\\b�P��\\u0011�0lB~U�fx�;)\\u001d\\u001bh*��Q�8\\u0000�� \\u0012��A\\u0016н\\\"\\u0000��({RД2�T�V�1\\u0014Ck�s�\\u0019\\u0018���_\\u0004���hpE�l0dM\\u0012\\b3�o�\\u0004�d��S_�Y���(���,C�\\fj�'�������C�Xܔ0\\u000f�{��B��@�\\u000f,�|��\\\\�鲵�Bk��]���:>\\u000e\\u0011B��\\u0014�`�\\u0014�\\r���ʇ��\\u0018\\u0002��\\u000eJ��!2g\\u0014So\\u0006��AL�\\r�Y�!Uve-�#�\\u000f��\\\"���\\u001d�- \\u000b���v��z��q#�=��E���7�p\\u0002��r5E��0\\u0007G�H\\u00014�\\u0014-���S� �G-s$\\\\&�y�=E\\t���%3h-��M�˷R\\u000f\\u0003�\\u001a�XF�\\u00128\\u0015\\u0002\\u001e�G��;����+��n����P\\fT\\u0005\\u00058bH����R&)?�g��Q�����BP�A����j0�c����T�K\\u0004���0L����:��K�I�5\\u001d`�cx�M7�\\u0019/7�\\u001b�D�xj���?۪%(\\u0013�1v��\\r�%Dk�+��\\u0010Um�.P��\\u0018���Qn�\\u001e=6�.�Ym\\u0007�W7�pV\\u001a�zMl�V\\u000fA�sBQ�z[n����X����|yK\\fm=�\\u0014˓�\\u0019˿�O_��88/�\\u001b�\\u0000����\\u0015DB�\\bt!/�;\\n���8���\\u0019�ެ)���Ĺڻ}\\r���t�U�ȏ��\\u001e���n߿����w�2��@\\u001a�{\\u0000X�\\u001ft��7����P����5\\r�tM�х�b�\\u001c&p��\\u000fu�U���\\u000bԃf\\u0004:,�\\u000e4�t� m1���\\u0015\\u0017Q� Ǖ�%7R\\u001fڼ�!x:Z�.���X�\\u001c/��{W��r�Ś�L�\\u0007��+��^�[(7*r�f�2{�y��h\\u001a�.��\\\"���Td��B^j�R<m�2���\\u0013p�}�\\u0015Z�\\n�Ͳ\\u0017�#��e���\\u001fRno��\\u0010�4��\\u0012�#���d���v�\\u0004�Q|x�wBQ���\\u000exA VZeMs��e4�C�\\u0018��m�|^�\\u0002\\u0006�\\u001ex��~OnY:y\\u0007�t���q�\\u000b���+%G\\u0003v�;]�~\\u000e\\u001f`�/i�C������\\u001f\\u0000;��3�`\\\\��ӯ�\\r��f��q6�]�~w�\\u0007\\u0016��SK�A�Nwœ���\\t\\\"B�\\b05\\u0003_\\u0015���Y�\\u001d\\u0014�W��R��Q�K!�P��\\u00117\\fP�^b�+�Һ��?�9�2'p�\\u0013\\u0015���K�q|}��{����.Rp9�\\t]�\\n�ÿg\\n�n��#�X�\\u0005��\\u0003$\\u0015����F�\\\\��\\\\\\u001b�CW\\u0002L2\\\\���)�>�ns�����4J�\\u001a��\\u000f\\u0010\\u001a.�\\u0018z\\u0006N]D�ݛ�/ɛ�kXg�2c�t?����\\\"��$��/��q�����}�p��\\u0016�\\u0004�z\\u001cfi\\u000b,.N���g�����4?蹆n�ڎ�7:����\\u001d��\\u0001�x���w���A.��hA��Iv|XB�z�\\u0018�O���Q<<����\\u001av[����a׿��\\u001c���?���i߂q�\\\\�r��1�|�(���p���\\u0015j��Y\\u001d\\u0007����i\\u0013\\u001d6��a�n۵��n�z[�{8�⻚ᅁᵝv�p�v�l\\u0018��>�qW\\u001c�\\u0002��ze�~�sw3N�Wo��o�ӱ5�9:\\u001f�m=�\\u0017�zlE�������jz��Q\\u000b>����\\u001f���\\ti\\u0001�N?\\f=_kw������s-����\\u001fh��i��\\u0017\\u001az�\\u0005\\u000e��\\n{F͈\\u0019�_0�\\u001c��w�\\u000f������u�����I��|�y{z�1��ϻ�/�O�����;��8y���g��\\u000bm��]���~_��\\\\���z����Z;0ܶ��\\u001d�\\u0001S��؁����:\\u001a@�o;��UF��\\\\���=\\u0007Ny!NAr�)���K�\\u00157��e,t8=�\\u0017y���\\u0016\\u001a��\\t��\\\"�%�+��\\u0010WO��A���Pk�\\u0011B\\u0017W��zB��K�\\u000fC�1�Gq����:�7��]���LqF�\\u0015)��!�z��c�U\\u0004@�b=����\\u0017���t���tS\\\"�u�����Ҋ�\\u0010<\\u000ep�R\\t@��?!��<�\\u0004�:$�_Ic��.�n�\\u0016.��\\u0010�[Y\\u0006-�à\\u0007�W\\rc�2𐿠<r�R\\u001c`��(,3�9$\\u0011*�/x$9��\\u000f��\\u0012x𙿹�\\u00168yA����V�\\bJ�%�\\u0013��\\u001cf#\\\\<��\\u0003�s\\n�ɟ\\u0000\\u0000\""
      ]
     },
     "metadata": {},
     "output_type": "display_data"
    }
   ],
   "source": [
    "var request = require('request');\n",
    "var headers = {\n",
    "    'DNT': '1',\n",
    "    'Accept-Encoding': 'gzip, deflate, sdch, br',\n",
    "    'Accept-Language': 'en-US,en;q=0.8',\n",
    "    'Upgrade-Insecure-Requests': '1',\n",
    "    'User-Agent': 'Mozilla/5.0 (Macintosh; Intel Mac OS X 10_12_4) AppleWebKit/537.36 (KHTML, like Gecko) Chrome/58.0.3029.96 Safari/537.36',\n",
    "    'Accept': 'text/html,application/xhtml+xml,application/xml;q=0.9,image/webp,*/*;q=0.8',\n",
    "    'Referer': 'https://github.com/gitGNU/gnu_3dldf',\n",
    "    'Connection': 'keep-alive',\n",
    "    'Cache-Control': 'max-age=0',\n",
    "    'Cookie': 'logged_in=yes; dotcom_user=ralic; _octo=GH1.1.2062054053.1493350610; _gh_sess=eyJzZXNzaW9uX2lkIjoiYzU5MDZhYzI1OTI4Njk4YTVmYmM5NzFmZjE0MmYwYmQiLCJsYXN0X3dyaXRlIjoxNDkzNzYyMTA0MTUwLCJjb250ZXh0IjoiLyIsInJldHVybl90byI6Ii9naXRHTlUvZ251X2F1dG9tYWtlL3NldHRpbmdzL3RyYW5zZmVyIiwic3B5X3JlcG8iOiJnaXRHTlUvZ251XzNkbGRmIiwic3B5X3JlcG9fYXQiOjE0OTM3NjYzMDd9--6650903af2cb11763578fec982264ad26163f8fa; user_session=RBFbN77HqwP9OcDHvZkncgG2uNa9Yy1XCqptUwd94rb_wDLD; __Host-user_session_same_site=RBFbN77HqwP9OcDHvZkncgG2uNa9Yy1XCqptUwd94rb_wDLD; _ga=GA1.2.1125699014.1493013552; _gat=1; tz=America%2FLos_Angeles'\n",
    "};\n",
    "\n",
    "var options = {\n",
    "    url: 'https://github.com/gitGNU/gnu_3dldf/graphs/contributors',\n",
    "    headers: headers\n",
    "};\n",
    "\n",
    "var resp;\n",
    "function callback(error, response, body) {\n",
    "    if (!error && response.statusCode == 200) {\n",
    "        resp =body;\n",
    "//         console.log(body);\n",
    "    }\n",
    "}\n"
   ]
  },
  {
   "cell_type": "code",
   "execution_count": 29,
   "metadata": {},
   "outputs": [],
   "source": [
    "// var babel = require('babel');\n",
    "%load_ext babel\n"
   ]
  },
  {
   "cell_type": "code",
   "execution_count": 37,
   "metadata": {},
   "outputs": [
    {
     "name": "stdout",
     "output_type": "stream",
     "text": [
      "Welcome!\n"
     ]
    },
    {
     "data": {
      "text/plain": [
       "false"
      ]
     },
     "execution_count": 37,
     "metadata": {},
     "output_type": "execute_result"
    }
   ],
   "source": [
    "%%babel\n",
    "class Something {\n",
    "    constructor() {\n",
    "        console.log('Welcome!')\n",
    "    }\n",
    "    doit() {\n",
    "        return false\n",
    "    }\n",
    "}\n",
    "\n",
    "new Something().doit()"
   ]
  },
  {
   "cell_type": "code",
   "execution_count": 38,
   "metadata": {},
   "outputs": [
    {
     "data": {
      "text/html": [
       "<h1>Hello World</h1>"
      ]
     },
     "metadata": {},
     "output_type": "display_data"
    }
   ],
   "source": [
    "display(\"<h1>Hello World</h1>\", \"text/html\") "
   ]
  },
  {
   "cell_type": "code",
   "execution_count": 39,
   "metadata": {},
   "outputs": [
    {
     "data": {
      "text/plain": [
       "[Promise] {\"isFulfilled\":false,\"isRejected\":false}"
      ]
     },
     "execution_count": 39,
     "metadata": {},
     "output_type": "execute_result"
    }
   ],
   "source": [
    "var rp = require('request-promise');\n",
    "\n",
    "var cheerio = require('cheerio'); // Basically jQuery for node.js \n",
    " \n",
    "var options = {\n",
    "    uri: 'http://www.google.com',\n",
    "    transform: function (body) {\n",
    "        return cheerio.load(body);\n",
    "    }\n",
    "};\n",
    " \n",
    "rp(options)\n",
    "    .then(function ($) {\n",
    "        // Process html like you would with jQuery... \n",
    "    })\n",
    "    .catch(function (err) {\n",
    "        // Crawling failed or Cheerio choked... \n",
    "    });"
   ]
  },
  {
   "cell_type": "code",
   "execution_count": 41,
   "metadata": {
    "collapsed": true
   },
   "outputs": [],
   "source": [
    "var d3= require('d3')"
   ]
  },
  {
   "cell_type": "code",
   "execution_count": null,
   "metadata": {
    "collapsed": true
   },
   "outputs": [],
   "source": [
    "d3"
   ]
  }
 ],
 "metadata": {
  "kernelspec": {
   "display_name": "NodeJS",
   "language": "javascript",
   "name": "nodejs"
  },
  "language_info": {
   "codemirror_mode": "javascript",
   "file_extension": ".js",
   "mimetype": "text/javascript",
   "name": "nodejs",
   "pygments_lexer": "javascript",
   "version": "0.10"
  }
 },
 "nbformat": 4,
 "nbformat_minor": 2
}
